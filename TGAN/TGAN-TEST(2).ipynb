{
 "cells": [
  {
   "cell_type": "code",
   "execution_count": 2,
   "metadata": {},
   "outputs": [
    {
     "name": "stdout",
     "output_type": "stream",
     "text": [
      "            a         b\n",
      "0  2162.88312  15689.00\n",
      "1  2171.84576  15555.00\n",
      "2  2171.87139  15558.00\n",
      "3  2183.80511  15633.00\n",
      "4  2183.83081  15643.00\n",
      "5  2184.80467  15583.00\n",
      "6  2184.83030  15572.00\n",
      "7  2188.85523  15538.00\n",
      "8  2191.76540  15676.00\n",
      "9  2191.80118     15.68\n",
      "[0, 1]\n"
     ]
    }
   ],
   "source": [
    "import pandas as pd\n",
    "from tgan.model import TGANModel\n",
    "from tgan import *\n",
    "\n",
    "\n",
    "data = pd.read_csv('/home/matias-desktop/Descargas/Datos2.csv')\n",
    "print (data[0:10])\n",
    "\n",
    "continuous_columns = [0,1] \n",
    "\n",
    "print (continuous_columns)\n",
    "\n",
    "tgan = TGANModel(continuous_columns)\n",
    "\n",
    "#tgan.fit(data)"
   ]
  },
  {
   "cell_type": "code",
   "execution_count": 4,
   "metadata": {},
   "outputs": [
    {
     "name": "stderr",
     "output_type": "stream",
     "text": [
      "W0716 23:14:45.050446 140072660915968 deprecation_wrapper.py:119] From /home/matias-desktop/anaconda3/lib/python3.7/site-packages/tensorpack/graph_builder/model_desc.py:29: The name tf.get_default_graph is deprecated. Please use tf.compat.v1.get_default_graph instead.\n",
      "\n",
      "W0716 23:14:45.051315 140072660915968 deprecation_wrapper.py:119] From /home/matias-desktop/anaconda3/lib/python3.7/site-packages/tensorpack/graph_builder/model_desc.py:39: The name tf.placeholder is deprecated. Please use tf.compat.v1.placeholder instead.\n",
      "\n",
      "W0716 23:14:45.083301 140072660915968 deprecation_wrapper.py:119] From /home/matias-desktop/anaconda3/lib/python3.7/site-packages/tensorpack/input_source/input_source.py:219: The name tf.FIFOQueue is deprecated. Please use tf.queue.FIFOQueue instead.\n",
      "\n"
     ]
    },
    {
     "name": "stdout",
     "output_type": "stream",
     "text": [
      "\u001b[32m[0716 23:14:45 @input_source.py:222]\u001b[0m Setting up the queue 'QueueInput/input_queue' for CPU prefetching ...\n"
     ]
    },
    {
     "name": "stderr",
     "output_type": "stream",
     "text": [
      "W0716 23:14:45.114933 140072660915968 deprecation_wrapper.py:119] From /home/matias-desktop/anaconda3/lib/python3.7/site-packages/tensorpack/tfutils/summary.py:237: The name tf.get_variable_scope is deprecated. Please use tf.compat.v1.get_variable_scope instead.\n",
      "\n",
      "W0716 23:14:45.127145 140072660915968 deprecation_wrapper.py:119] From /home/matias-desktop/anaconda3/lib/python3.7/site-packages/tensorpack/tfutils/summary.py:27: The name tf.variable_scope is deprecated. Please use tf.compat.v1.variable_scope instead.\n",
      "\n",
      "W0716 23:14:45.167922 140072660915968 deprecation_wrapper.py:119] From /home/matias-desktop/anaconda3/lib/python3.7/site-packages/tensorpack/tfutils/summary.py:264: The name tf.summary.scalar is deprecated. Please use tf.compat.v1.summary.scalar instead.\n",
      "\n",
      "W0716 23:14:45.189936 140072660915968 deprecation.py:323] From /home/matias-desktop/anaconda3/lib/python3.7/site-packages/tgan/model.py:259: LSTMCell.__init__ (from tensorflow.python.ops.rnn_cell_impl) is deprecated and will be removed in a future version.\n",
      "Instructions for updating:\n",
      "This class is equivalent as tf.keras.layers.LSTMCell, and will be replaced by that in Tensorflow 2.0.\n",
      "W0716 23:14:45.313563 140072660915968 deprecation.py:506] From /home/matias-desktop/anaconda3/lib/python3.7/site-packages/tensorflow/python/ops/init_ops.py:1251: calling VarianceScaling.__init__ (from tensorflow.python.ops.init_ops) with dtype is deprecated and will be removed in a future version.\n",
      "Instructions for updating:\n",
      "Call initializer instance with the dtype argument instead of passing it to the constructor\n",
      "W0716 23:14:45.336656 140072660915968 deprecation.py:506] From /home/matias-desktop/anaconda3/lib/python3.7/site-packages/tensorflow/python/ops/rnn_cell_impl.py:961: calling Zeros.__init__ (from tensorflow.python.ops.init_ops) with dtype is deprecated and will be removed in a future version.\n",
      "Instructions for updating:\n",
      "Call initializer instance with the dtype argument instead of passing it to the constructor\n"
     ]
    },
    {
     "name": "stdout",
     "output_type": "stream",
     "text": [
      "\u001b[32m[0716 23:14:45 @registry.py:126]\u001b[0m gen/LSTM/00/FC input: [200, 100]\n"
     ]
    },
    {
     "name": "stderr",
     "output_type": "stream",
     "text": [
      "W0716 23:14:45.903121 140072660915968 deprecation_wrapper.py:119] From /home/matias-desktop/anaconda3/lib/python3.7/site-packages/tensorpack/models/fc.py:57: The name tf.layers.Dense is deprecated. Please use tf.compat.v1.layers.Dense instead.\n",
      "\n"
     ]
    },
    {
     "name": "stdout",
     "output_type": "stream",
     "text": [
      "\u001b[32m[0716 23:14:46 @registry.py:134]\u001b[0m gen/LSTM/00/FC output: [200, 100]\n",
      "\u001b[32m[0716 23:14:46 @registry.py:126]\u001b[0m gen/LSTM/00/FC2 input: [200, 100]\n",
      "\u001b[32m[0716 23:14:46 @registry.py:134]\u001b[0m gen/LSTM/00/FC2 output: [200, 1]\n",
      "\u001b[32m[0716 23:14:46 @registry.py:126]\u001b[0m gen/LSTM/01/FC input: [200, 100]\n",
      "\u001b[32m[0716 23:14:46 @registry.py:134]\u001b[0m gen/LSTM/01/FC output: [200, 100]\n",
      "\u001b[32m[0716 23:14:46 @registry.py:126]\u001b[0m gen/LSTM/01/FC2 input: [200, 100]\n",
      "\u001b[32m[0716 23:14:46 @registry.py:134]\u001b[0m gen/LSTM/01/FC2 output: [200, 5]\n",
      "\u001b[32m[0716 23:14:46 @registry.py:126]\u001b[0m gen/LSTM/01/FC3 input: [200, 5]\n",
      "\u001b[32m[0716 23:14:46 @registry.py:134]\u001b[0m gen/LSTM/01/FC3 output: [200, 100]\n",
      "\u001b[32m[0716 23:14:46 @registry.py:126]\u001b[0m gen/LSTM/02/FC input: [200, 100]\n",
      "\u001b[32m[0716 23:14:46 @registry.py:134]\u001b[0m gen/LSTM/02/FC output: [200, 100]\n",
      "\u001b[32m[0716 23:14:46 @registry.py:126]\u001b[0m gen/LSTM/02/FC2 input: [200, 100]\n",
      "\u001b[32m[0716 23:14:46 @registry.py:134]\u001b[0m gen/LSTM/02/FC2 output: [200, 1]\n",
      "\u001b[32m[0716 23:14:46 @registry.py:126]\u001b[0m gen/LSTM/03/FC input: [200, 100]\n",
      "\u001b[32m[0716 23:14:46 @registry.py:134]\u001b[0m gen/LSTM/03/FC output: [200, 100]\n",
      "\u001b[32m[0716 23:14:46 @registry.py:126]\u001b[0m gen/LSTM/03/FC2 input: [200, 100]\n",
      "\u001b[32m[0716 23:14:46 @registry.py:134]\u001b[0m gen/LSTM/03/FC2 output: [200, 5]\n",
      "\u001b[32m[0716 23:14:46 @registry.py:126]\u001b[0m gen/LSTM/03/FC3 input: [200, 5]\n",
      "\u001b[32m[0716 23:14:46 @registry.py:134]\u001b[0m gen/LSTM/03/FC3 output: [200, 100]\n",
      "\u001b[32m[0716 23:14:46 @registry.py:126]\u001b[0m discrim/dis_fc0/fc input: [200, 12]\n",
      "\u001b[32m[0716 23:14:46 @registry.py:134]\u001b[0m discrim/dis_fc0/fc output: [200, 100]\n",
      "\u001b[32m[0716 23:14:46 @registry.py:126]\u001b[0m discrim/dis_fc0/fc_diversity input: [200, 100]\n",
      "\u001b[32m[0716 23:14:46 @registry.py:134]\u001b[0m discrim/dis_fc0/fc_diversity output: [200, 100]\n"
     ]
    },
    {
     "name": "stderr",
     "output_type": "stream",
     "text": [
      "W0716 23:14:46.681276 140072660915968 deprecation_wrapper.py:119] From /home/matias-desktop/anaconda3/lib/python3.7/site-packages/tensorpack/models/batch_norm.py:204: The name tf.layers.BatchNormalization is deprecated. Please use tf.compat.v1.layers.BatchNormalization instead.\n",
      "\n"
     ]
    },
    {
     "name": "stdout",
     "output_type": "stream",
     "text": [
      "\u001b[32m[0716 23:14:46 @registry.py:126]\u001b[0m discrim/dis_fc_top input: [200, 110]\n",
      "\u001b[32m[0716 23:14:46 @registry.py:134]\u001b[0m discrim/dis_fc_top output: [200, 1]\n"
     ]
    },
    {
     "name": "stderr",
     "output_type": "stream",
     "text": [
      "W0716 23:14:46.933468 140072660915968 deprecation_wrapper.py:119] From /home/matias-desktop/anaconda3/lib/python3.7/site-packages/tgan/model.py:118: The name tf.summary.histogram is deprecated. Please use tf.compat.v1.summary.histogram instead.\n",
      "\n",
      "W0716 23:14:46.939128 140072660915968 deprecation.py:323] From /home/matias-desktop/anaconda3/lib/python3.7/site-packages/tensorflow/python/ops/nn_impl.py:180: add_dispatch_support.<locals>.wrapper (from tensorflow.python.ops.array_ops) is deprecated and will be removed in a future version.\n",
      "Instructions for updating:\n",
      "Use tf.where in 2.0, which has the same broadcast rule as np.where\n",
      "W0716 23:14:51.698764 140072660915968 lazy_loader.py:50] \n",
      "The TensorFlow contrib module will not be included in TensorFlow 2.0.\n",
      "For more information, please see:\n",
      "  * https://github.com/tensorflow/community/blob/master/rfcs/20180907-contrib-sunset.md\n",
      "  * https://github.com/tensorflow/addons\n",
      "  * https://github.com/tensorflow/io (for I/O related ops)\n",
      "If you depend on functionality not listed there, please file an issue.\n",
      "\n",
      "W0716 23:14:51.863595 140072660915968 deprecation_wrapper.py:119] From /home/matias-desktop/anaconda3/lib/python3.7/site-packages/tgan/model.py:551: The name tf.train.AdamOptimizer is deprecated. Please use tf.compat.v1.train.AdamOptimizer instead.\n",
      "\n"
     ]
    },
    {
     "name": "stdout",
     "output_type": "stream",
     "text": [
      "\u001b[32m[0716 23:14:53 @logger.py:90]\u001b[0m Argv: /home/matias-desktop/anaconda3/lib/python3.7/site-packages/ipykernel_launcher.py -f /run/user/1000/jupyter/kernel-3dbbd2ae-01aa-48ec-8fc5-158d45557289.json\n"
     ]
    },
    {
     "name": "stderr",
     "output_type": "stream",
     "text": [
      "W0716 23:14:53.573857 140072660915968 deprecation_wrapper.py:119] From /home/matias-desktop/anaconda3/lib/python3.7/site-packages/tensorpack/callbacks/saver.py:43: The name tf.gfile.IsDirectory is deprecated. Please use tf.io.gfile.isdir instead.\n",
      "\n",
      "W0716 23:14:53.574683 140072660915968 deprecation_wrapper.py:119] From /home/matias-desktop/anaconda3/lib/python3.7/site-packages/tensorpack/callbacks/saver.py:44: The name tf.gfile.MakeDirs is deprecated. Please use tf.io.gfile.makedirs instead.\n",
      "\n"
     ]
    },
    {
     "name": "stdout",
     "output_type": "stream",
     "text": [
      "\u001b[32m[0716 23:14:53 @model_utils.py:67]\u001b[0m \u001b[36mList of Trainable Variables: \n",
      "\u001b[0mname                              shape         #elements\n",
      "--------------------------------  ----------  -----------\n",
      "gen/LSTM/go:0                     [1, 100]            100\n",
      "gen/LSTM/lstm_cell/kernel:0       [500, 400]       200000\n",
      "gen/LSTM/lstm_cell/bias:0         [400]               400\n",
      "gen/LSTM/00/FC/W:0                [100, 100]        10000\n",
      "gen/LSTM/00/FC/b:0                [100]               100\n",
      "gen/LSTM/00/FC2/W:0               [100, 1]            100\n",
      "gen/LSTM/00/FC2/b:0               [1]                   1\n",
      "gen/LSTM/00/attw:0                [1, 1, 1]             1\n",
      "gen/LSTM/01/FC/W:0                [100, 100]        10000\n",
      "gen/LSTM/01/FC/b:0                [100]               100\n",
      "gen/LSTM/01/FC2/W:0               [100, 5]            500\n",
      "gen/LSTM/01/FC2/b:0               [5]                   5\n",
      "gen/LSTM/01/FC3/W:0               [5, 100]            500\n",
      "gen/LSTM/01/FC3/b:0               [100]               100\n",
      "gen/LSTM/01/attw:0                [2, 1, 1]             2\n",
      "gen/LSTM/02/FC/W:0                [100, 100]        10000\n",
      "gen/LSTM/02/FC/b:0                [100]               100\n",
      "gen/LSTM/02/FC2/W:0               [100, 1]            100\n",
      "gen/LSTM/02/FC2/b:0               [1]                   1\n",
      "gen/LSTM/02/attw:0                [3, 1, 1]             3\n",
      "gen/LSTM/03/FC/W:0                [100, 100]        10000\n",
      "gen/LSTM/03/FC/b:0                [100]               100\n",
      "gen/LSTM/03/FC2/W:0               [100, 5]            500\n",
      "gen/LSTM/03/FC2/b:0               [5]                   5\n",
      "gen/LSTM/03/FC3/W:0               [5, 100]            500\n",
      "gen/LSTM/03/FC3/b:0               [100]               100\n",
      "gen/LSTM/03/attw:0                [4, 1, 1]             4\n",
      "discrim/dis_fc0/fc/W:0            [12, 100]          1200\n",
      "discrim/dis_fc0/fc/b:0            [100]               100\n",
      "discrim/dis_fc0/fc_diversity/W:0  [100, 100]        10000\n",
      "discrim/dis_fc0/fc_diversity/b:0  [100]               100\n",
      "discrim/dis_fc0/bn/beta:0         [110]               110\n",
      "discrim/dis_fc_top/W:0            [110, 1]            110\n",
      "discrim/dis_fc_top/b:0            [1]                   1\u001b[36m\n",
      "Number of trainable variables: 34\n",
      "Number of parameters (elements): 254943\n",
      "Storage space needed for all trainable variables: 0.97MB\u001b[0m\n",
      "\u001b[32m[0716 23:14:53 @base.py:209]\u001b[0m Setup callbacks graph ...\n"
     ]
    },
    {
     "name": "stderr",
     "output_type": "stream",
     "text": [
      "W0716 23:14:53.580950 140072660915968 deprecation_wrapper.py:119] From /home/matias-desktop/anaconda3/lib/python3.7/site-packages/tensorpack/callbacks/graph.py:54: The name tf.train.SessionRunArgs is deprecated. Please use tf.estimator.SessionRunArgs instead.\n",
      "\n"
     ]
    },
    {
     "name": "stdout",
     "output_type": "stream",
     "text": [
      "\u001b[32m[0716 23:14:53 @summary.py:46]\u001b[0m [MovingAverageSummary] 6 operations in collection 'MOVING_SUMMARY_OPS' will be run with session hooks.\n",
      "\u001b[32m[0716 23:14:53 @summary.py:93]\u001b[0m Summarizing collection 'summaries' of size 9.\n"
     ]
    },
    {
     "name": "stderr",
     "output_type": "stream",
     "text": [
      "W0716 23:14:53.683946 140072660915968 deprecation_wrapper.py:119] From /home/matias-desktop/anaconda3/lib/python3.7/site-packages/tensorpack/callbacks/summary.py:94: The name tf.summary.merge_all is deprecated. Please use tf.compat.v1.summary.merge_all instead.\n",
      "\n"
     ]
    },
    {
     "name": "stdout",
     "output_type": "stream",
     "text": [
      "\u001b[32m[0716 23:14:53 @graph.py:98]\u001b[0m Applying collection UPDATE_OPS of 4 ops.\n"
     ]
    },
    {
     "name": "stderr",
     "output_type": "stream",
     "text": [
      "W0716 23:14:53.686510 140072660915968 deprecation_wrapper.py:119] From /home/matias-desktop/anaconda3/lib/python3.7/site-packages/tensorpack/callbacks/monitor.py:261: The name tf.summary.FileWriter is deprecated. Please use tf.compat.v1.summary.FileWriter instead.\n",
      "\n"
     ]
    },
    {
     "name": "stdout",
     "output_type": "stream",
     "text": [
      "\u001b[32m[0716 23:14:54 @base.py:230]\u001b[0m Creating the session ...\n",
      "\u001b[32m[0716 23:14:55 @base.py:236]\u001b[0m Initializing the session ...\n",
      "\u001b[32m[0716 23:14:55 @base.py:243]\u001b[0m Graph Finalized.\n",
      "\u001b[32m[0716 23:14:55 @concurrency.py:38]\u001b[0m Starting EnqueueThread QueueInput/input_queue ...\n"
     ]
    },
    {
     "name": "stderr",
     "output_type": "stream",
     "text": [
      "W0716 23:14:55.262462 140072660915968 deprecation_wrapper.py:119] From /home/matias-desktop/anaconda3/lib/python3.7/site-packages/tensorpack/callbacks/monitor.py:309: The name tf.gfile.Exists is deprecated. Please use tf.io.gfile.exists instead.\n",
      "\n"
     ]
    },
    {
     "name": "stdout",
     "output_type": "stream",
     "text": [
      "\u001b[32m[0716 23:14:55 @base.py:275]\u001b[0m Start Epoch 1 ...\n"
     ]
    },
    {
     "name": "stderr",
     "output_type": "stream",
     "text": [
      "100%|##########|10000/10000[13:29<00:00,12.36it/s]"
     ]
    },
    {
     "name": "stdout",
     "output_type": "stream",
     "text": [
      "\u001b[32m[0716 23:28:24 @base.py:285]\u001b[0m Epoch 1 (global_step 10000) finished, time:13 minutes 29 seconds.\n",
      "\u001b[32m[0716 23:28:24 @saver.py:79]\u001b[0m Model saved to output/model/model-10000.\n",
      "\u001b[32m[0716 23:28:24 @monitor.py:467]\u001b[0m GAN_loss/discrim/accuracy_fake: 0.995\n",
      "\u001b[32m[0716 23:28:24 @monitor.py:467]\u001b[0m GAN_loss/discrim/accuracy_real: 0.005\n",
      "\u001b[32m[0716 23:28:24 @monitor.py:467]\u001b[0m GAN_loss/discrim/loss: 0.66559\n",
      "\u001b[32m[0716 23:28:24 @monitor.py:467]\u001b[0m GAN_loss/gen/final-g-loss: 0.91549\n",
      "\u001b[32m[0716 23:28:24 @monitor.py:467]\u001b[0m GAN_loss/gen/klloss: 0.038907\n",
      "\u001b[32m[0716 23:28:24 @monitor.py:467]\u001b[0m GAN_loss/gen/loss: 0.87658\n",
      "\u001b[32m[0716 23:28:24 @monitor.py:467]\u001b[0m QueueInput/queue_size: 50\n",
      "\u001b[32m[0716 23:28:24 @base.py:275]\u001b[0m Start Epoch 2 ...\n"
     ]
    },
    {
     "name": "stderr",
     "output_type": "stream",
     "text": [
      "\n",
      "100%|##########|10000/10000[13:33<00:00,12.29it/s]"
     ]
    },
    {
     "name": "stdout",
     "output_type": "stream",
     "text": [
      "\u001b[32m[0716 23:41:58 @base.py:285]\u001b[0m Epoch 2 (global_step 20000) finished, time:13 minutes 33 seconds.\n",
      "\u001b[32m[0716 23:41:58 @saver.py:79]\u001b[0m Model saved to output/model/model-20000.\n",
      "\u001b[32m[0716 23:41:58 @monitor.py:467]\u001b[0m GAN_loss/discrim/accuracy_fake: 0.98\n",
      "\u001b[32m[0716 23:41:58 @monitor.py:467]\u001b[0m GAN_loss/discrim/accuracy_real: 0.02\n",
      "\u001b[32m[0716 23:41:58 @monitor.py:467]\u001b[0m GAN_loss/discrim/loss: 0.6585\n",
      "\u001b[32m[0716 23:41:58 @monitor.py:467]\u001b[0m GAN_loss/gen/final-g-loss: 0.97406\n",
      "\u001b[32m[0716 23:41:58 @monitor.py:467]\u001b[0m GAN_loss/gen/klloss: 0.070712\n",
      "\u001b[32m[0716 23:41:58 @monitor.py:467]\u001b[0m GAN_loss/gen/loss: 0.90335\n",
      "\u001b[32m[0716 23:41:58 @monitor.py:467]\u001b[0m QueueInput/queue_size: 50\n"
     ]
    },
    {
     "name": "stderr",
     "output_type": "stream",
     "text": [
      "\n"
     ]
    },
    {
     "name": "stdout",
     "output_type": "stream",
     "text": [
      "\u001b[32m[0716 23:41:58 @base.py:275]\u001b[0m Start Epoch 3 ...\n"
     ]
    },
    {
     "name": "stderr",
     "output_type": "stream",
     "text": [
      "100%|##########|10000/10000[13:44<00:00,12.13it/s]"
     ]
    },
    {
     "name": "stdout",
     "output_type": "stream",
     "text": [
      "\u001b[32m[0716 23:55:42 @base.py:285]\u001b[0m Epoch 3 (global_step 30000) finished, time:13 minutes 44 seconds.\n",
      "\u001b[32m[0716 23:55:42 @saver.py:79]\u001b[0m Model saved to output/model/model-30000.\n",
      "\u001b[32m[0716 23:55:42 @monitor.py:467]\u001b[0m GAN_loss/discrim/accuracy_fake: 1\n",
      "\u001b[32m[0716 23:55:42 @monitor.py:467]\u001b[0m GAN_loss/discrim/accuracy_real: 0.01\n",
      "\u001b[32m[0716 23:55:42 @monitor.py:467]\u001b[0m GAN_loss/discrim/loss: 0.64864\n",
      "\u001b[32m[0716 23:55:42 @monitor.py:467]\u001b[0m GAN_loss/gen/final-g-loss: 0.98132\n",
      "\u001b[32m[0716 23:55:42 @monitor.py:467]\u001b[0m GAN_loss/gen/klloss: 0.058838\n",
      "\u001b[32m[0716 23:55:42 @monitor.py:467]\u001b[0m GAN_loss/gen/loss: 0.92249\n",
      "\u001b[32m[0716 23:55:42 @monitor.py:467]\u001b[0m QueueInput/queue_size: 50\n",
      "\u001b[32m[0716 23:55:42 @base.py:275]\u001b[0m Start Epoch 4 ...\n"
     ]
    },
    {
     "name": "stderr",
     "output_type": "stream",
     "text": [
      "\n",
      "100%|##########|10000/10000[13:15<00:00,12.57it/s]"
     ]
    },
    {
     "name": "stdout",
     "output_type": "stream",
     "text": [
      "\u001b[32m[0717 00:08:57 @base.py:285]\u001b[0m Epoch 4 (global_step 40000) finished, time:13 minutes 15 seconds.\n",
      "\u001b[32m[0717 00:08:57 @saver.py:79]\u001b[0m Model saved to output/model/model-40000.\n",
      "\u001b[32m[0717 00:08:57 @monitor.py:467]\u001b[0m GAN_loss/discrim/accuracy_fake: 0.985\n",
      "\u001b[32m[0717 00:08:57 @monitor.py:467]\u001b[0m GAN_loss/discrim/accuracy_real: 0\n",
      "\u001b[32m[0717 00:08:57 @monitor.py:467]\u001b[0m GAN_loss/discrim/loss: 0.65163\n",
      "\u001b[32m[0717 00:08:57 @monitor.py:467]\u001b[0m GAN_loss/gen/final-g-loss: 0.93879\n",
      "\u001b[32m[0717 00:08:57 @monitor.py:467]\u001b[0m GAN_loss/gen/klloss: 0.018955\n",
      "\u001b[32m[0717 00:08:57 @monitor.py:467]\u001b[0m GAN_loss/gen/loss: 0.91984\n",
      "\u001b[32m[0717 00:08:57 @monitor.py:467]\u001b[0m QueueInput/queue_size: 50\n",
      "\u001b[32m[0717 00:08:57 @base.py:275]\u001b[0m Start Epoch 5 ...\n"
     ]
    },
    {
     "name": "stderr",
     "output_type": "stream",
     "text": [
      "\n",
      "100%|##########|10000/10000[13:02<00:00,12.78it/s]"
     ]
    },
    {
     "name": "stdout",
     "output_type": "stream",
     "text": [
      "\u001b[32m[0717 00:21:59 @base.py:285]\u001b[0m Epoch 5 (global_step 50000) finished, time:13 minutes 2 seconds.\n",
      "\u001b[32m[0717 00:21:59 @saver.py:79]\u001b[0m Model saved to output/model/model-50000.\n",
      "\u001b[32m[0717 00:21:59 @monitor.py:467]\u001b[0m GAN_loss/discrim/accuracy_fake: 0.985\n",
      "\u001b[32m[0717 00:21:59 @monitor.py:467]\u001b[0m GAN_loss/discrim/accuracy_real: 0.02\n",
      "\u001b[32m[0717 00:21:59 @monitor.py:467]\u001b[0m GAN_loss/discrim/loss: 0.64892\n",
      "\u001b[32m[0717 00:21:59 @monitor.py:467]\u001b[0m GAN_loss/gen/final-g-loss: 0.94394\n",
      "\u001b[32m[0717 00:21:59 @monitor.py:467]\u001b[0m GAN_loss/gen/klloss: 0.027732\n",
      "\u001b[32m[0717 00:21:59 @monitor.py:467]\u001b[0m GAN_loss/gen/loss: 0.91621\n",
      "\u001b[32m[0717 00:21:59 @monitor.py:467]\u001b[0m QueueInput/queue_size: 50\n",
      "\u001b[32m[0717 00:21:59 @base.py:289]\u001b[0m Training has finished!\n"
     ]
    },
    {
     "name": "stderr",
     "output_type": "stream",
     "text": [
      "\n"
     ]
    },
    {
     "name": "stdout",
     "output_type": "stream",
     "text": [
      "\u001b[32m[0717 00:22:00 @input_source.py:178]\u001b[0m EnqueueThread QueueInput/input_queue Exited.\n",
      "\u001b[32m[0717 00:22:00 @collection.py:146]\u001b[0m New collections created in tower : tf.GraphKeys.REGULARIZATION_LOSSES\n",
      "\u001b[32m[0717 00:22:00 @collection.py:165]\u001b[0m These collections were modified but restored in : (tf.GraphKeys.SUMMARIES: 0->2)\n",
      "\u001b[32m[0717 00:22:00 @sessinit.py:87]\u001b[0m \u001b[5m\u001b[31mWRN\u001b[0m The following variables are in the checkpoint, but not found in the graph: global_step, optimize/beta1_power, optimize/beta2_power\n",
      "\u001b[32m[0717 00:22:00 @sessinit.py:114]\u001b[0m Restoring checkpoint from output/model/model-50000 ...\n"
     ]
    },
    {
     "name": "stderr",
     "output_type": "stream",
     "text": [
      "W0717 00:22:00.980258 140072660915968 deprecation.py:323] From /home/matias-desktop/anaconda3/lib/python3.7/site-packages/tensorflow/python/training/saver.py:1276: checkpoint_exists (from tensorflow.python.training.checkpoint_management) is deprecated and will be removed in a future version.\n",
      "Instructions for updating:\n",
      "Use standard file APIs to check for files with this prefix.\n"
     ]
    }
   ],
   "source": [
    "tgan.fit(data)"
   ]
  },
  {
   "cell_type": "code",
   "execution_count": 3,
   "metadata": {},
   "outputs": [
    {
     "name": "stdout",
     "output_type": "stream",
     "text": [
      "Hello World\n"
     ]
    }
   ],
   "source": [
    "print (\"Hello World\")"
   ]
  },
  {
   "cell_type": "code",
   "execution_count": 11,
   "metadata": {},
   "outputs": [],
   "source": [
    "num_samples=1000"
   ]
  },
  {
   "cell_type": "code",
   "execution_count": 12,
   "metadata": {},
   "outputs": [
    {
     "name": "stderr",
     "output_type": "stream",
     "text": [
      "  2%|2         |4/200[00:00<00:02,86.52it/s]\n"
     ]
    }
   ],
   "source": [
    "samples=tgan.sample(num_samples)"
   ]
  },
  {
   "cell_type": "code",
   "execution_count": 8,
   "metadata": {},
   "outputs": [
    {
     "data": {
      "text/html": [
       "<div>\n",
       "<style scoped>\n",
       "    .dataframe tbody tr th:only-of-type {\n",
       "        vertical-align: middle;\n",
       "    }\n",
       "\n",
       "    .dataframe tbody tr th {\n",
       "        vertical-align: top;\n",
       "    }\n",
       "\n",
       "    .dataframe thead th {\n",
       "        text-align: right;\n",
       "    }\n",
       "</style>\n",
       "<table border=\"1\" class=\"dataframe\">\n",
       "  <thead>\n",
       "    <tr style=\"text-align: right;\">\n",
       "      <th></th>\n",
       "      <th>a</th>\n",
       "      <th>b</th>\n",
       "    </tr>\n",
       "  </thead>\n",
       "  <tbody>\n",
       "    <tr>\n",
       "      <th>0</th>\n",
       "      <td>4332.695685</td>\n",
       "      <td>15.636195</td>\n",
       "    </tr>\n",
       "    <tr>\n",
       "      <th>1</th>\n",
       "      <td>3940.277193</td>\n",
       "      <td>15553.295188</td>\n",
       "    </tr>\n",
       "    <tr>\n",
       "      <th>2</th>\n",
       "      <td>4286.436549</td>\n",
       "      <td>15700.776012</td>\n",
       "    </tr>\n",
       "    <tr>\n",
       "      <th>3</th>\n",
       "      <td>2741.675108</td>\n",
       "      <td>15694.140139</td>\n",
       "    </tr>\n",
       "    <tr>\n",
       "      <th>4</th>\n",
       "      <td>3660.539747</td>\n",
       "      <td>15664.030977</td>\n",
       "    </tr>\n",
       "    <tr>\n",
       "      <th>5</th>\n",
       "      <td>3844.688399</td>\n",
       "      <td>15684.346671</td>\n",
       "    </tr>\n",
       "    <tr>\n",
       "      <th>6</th>\n",
       "      <td>2591.855198</td>\n",
       "      <td>15572.947807</td>\n",
       "    </tr>\n",
       "    <tr>\n",
       "      <th>7</th>\n",
       "      <td>3849.730401</td>\n",
       "      <td>15714.184163</td>\n",
       "    </tr>\n",
       "    <tr>\n",
       "      <th>8</th>\n",
       "      <td>2735.959370</td>\n",
       "      <td>15554.189319</td>\n",
       "    </tr>\n",
       "    <tr>\n",
       "      <th>9</th>\n",
       "      <td>3301.865017</td>\n",
       "      <td>15557.579189</td>\n",
       "    </tr>\n",
       "    <tr>\n",
       "      <th>10</th>\n",
       "      <td>2766.276298</td>\n",
       "      <td>15675.897109</td>\n",
       "    </tr>\n",
       "    <tr>\n",
       "      <th>11</th>\n",
       "      <td>2679.787229</td>\n",
       "      <td>15550.351614</td>\n",
       "    </tr>\n",
       "    <tr>\n",
       "      <th>12</th>\n",
       "      <td>4144.025059</td>\n",
       "      <td>15666.569608</td>\n",
       "    </tr>\n",
       "    <tr>\n",
       "      <th>13</th>\n",
       "      <td>4505.693013</td>\n",
       "      <td>15704.076214</td>\n",
       "    </tr>\n",
       "    <tr>\n",
       "      <th>14</th>\n",
       "      <td>4049.900252</td>\n",
       "      <td>15689.005630</td>\n",
       "    </tr>\n",
       "    <tr>\n",
       "      <th>15</th>\n",
       "      <td>4247.753621</td>\n",
       "      <td>15620.527394</td>\n",
       "    </tr>\n",
       "    <tr>\n",
       "      <th>16</th>\n",
       "      <td>4550.480444</td>\n",
       "      <td>15642.527032</td>\n",
       "    </tr>\n",
       "    <tr>\n",
       "      <th>17</th>\n",
       "      <td>4261.970816</td>\n",
       "      <td>15641.180751</td>\n",
       "    </tr>\n",
       "    <tr>\n",
       "      <th>18</th>\n",
       "      <td>3230.975883</td>\n",
       "      <td>15.528402</td>\n",
       "    </tr>\n",
       "    <tr>\n",
       "      <th>19</th>\n",
       "      <td>3442.078396</td>\n",
       "      <td>15644.799184</td>\n",
       "    </tr>\n",
       "    <tr>\n",
       "      <th>20</th>\n",
       "      <td>3779.501969</td>\n",
       "      <td>15585.364751</td>\n",
       "    </tr>\n",
       "    <tr>\n",
       "      <th>21</th>\n",
       "      <td>2362.689525</td>\n",
       "      <td>15561.777288</td>\n",
       "    </tr>\n",
       "    <tr>\n",
       "      <th>22</th>\n",
       "      <td>2767.822928</td>\n",
       "      <td>15539.629634</td>\n",
       "    </tr>\n",
       "    <tr>\n",
       "      <th>23</th>\n",
       "      <td>3051.889259</td>\n",
       "      <td>15557.203077</td>\n",
       "    </tr>\n",
       "    <tr>\n",
       "      <th>24</th>\n",
       "      <td>2588.125165</td>\n",
       "      <td>15.685803</td>\n",
       "    </tr>\n",
       "    <tr>\n",
       "      <th>25</th>\n",
       "      <td>3112.719353</td>\n",
       "      <td>15537.486321</td>\n",
       "    </tr>\n",
       "    <tr>\n",
       "      <th>26</th>\n",
       "      <td>2244.971378</td>\n",
       "      <td>15643.845643</td>\n",
       "    </tr>\n",
       "    <tr>\n",
       "      <th>27</th>\n",
       "      <td>4054.676557</td>\n",
       "      <td>15625.368598</td>\n",
       "    </tr>\n",
       "    <tr>\n",
       "      <th>28</th>\n",
       "      <td>3521.779319</td>\n",
       "      <td>15541.309221</td>\n",
       "    </tr>\n",
       "    <tr>\n",
       "      <th>29</th>\n",
       "      <td>3602.322099</td>\n",
       "      <td>15588.890665</td>\n",
       "    </tr>\n",
       "    <tr>\n",
       "      <th>...</th>\n",
       "      <td>...</td>\n",
       "      <td>...</td>\n",
       "    </tr>\n",
       "    <tr>\n",
       "      <th>70</th>\n",
       "      <td>2420.238465</td>\n",
       "      <td>15568.154762</td>\n",
       "    </tr>\n",
       "    <tr>\n",
       "      <th>71</th>\n",
       "      <td>2834.937367</td>\n",
       "      <td>15689.524206</td>\n",
       "    </tr>\n",
       "    <tr>\n",
       "      <th>72</th>\n",
       "      <td>3870.955613</td>\n",
       "      <td>15542.013075</td>\n",
       "    </tr>\n",
       "    <tr>\n",
       "      <th>73</th>\n",
       "      <td>2122.649219</td>\n",
       "      <td>15641.770850</td>\n",
       "    </tr>\n",
       "    <tr>\n",
       "      <th>74</th>\n",
       "      <td>2764.509442</td>\n",
       "      <td>15598.105223</td>\n",
       "    </tr>\n",
       "    <tr>\n",
       "      <th>75</th>\n",
       "      <td>4294.101031</td>\n",
       "      <td>15705.852972</td>\n",
       "    </tr>\n",
       "    <tr>\n",
       "      <th>76</th>\n",
       "      <td>2609.586831</td>\n",
       "      <td>15674.493541</td>\n",
       "    </tr>\n",
       "    <tr>\n",
       "      <th>77</th>\n",
       "      <td>2452.832994</td>\n",
       "      <td>15538.614759</td>\n",
       "    </tr>\n",
       "    <tr>\n",
       "      <th>78</th>\n",
       "      <td>2246.374917</td>\n",
       "      <td>15588.354995</td>\n",
       "    </tr>\n",
       "    <tr>\n",
       "      <th>79</th>\n",
       "      <td>2497.402326</td>\n",
       "      <td>15621.511382</td>\n",
       "    </tr>\n",
       "    <tr>\n",
       "      <th>80</th>\n",
       "      <td>2770.105034</td>\n",
       "      <td>15543.906299</td>\n",
       "    </tr>\n",
       "    <tr>\n",
       "      <th>81</th>\n",
       "      <td>3286.508696</td>\n",
       "      <td>15552.007378</td>\n",
       "    </tr>\n",
       "    <tr>\n",
       "      <th>82</th>\n",
       "      <td>3940.458121</td>\n",
       "      <td>15698.542299</td>\n",
       "    </tr>\n",
       "    <tr>\n",
       "      <th>83</th>\n",
       "      <td>2154.572182</td>\n",
       "      <td>15577.602249</td>\n",
       "    </tr>\n",
       "    <tr>\n",
       "      <th>84</th>\n",
       "      <td>3750.180376</td>\n",
       "      <td>15540.418085</td>\n",
       "    </tr>\n",
       "    <tr>\n",
       "      <th>85</th>\n",
       "      <td>3535.902796</td>\n",
       "      <td>15654.531239</td>\n",
       "    </tr>\n",
       "    <tr>\n",
       "      <th>86</th>\n",
       "      <td>4200.440788</td>\n",
       "      <td>15541.007707</td>\n",
       "    </tr>\n",
       "    <tr>\n",
       "      <th>87</th>\n",
       "      <td>2212.029260</td>\n",
       "      <td>15541.443090</td>\n",
       "    </tr>\n",
       "    <tr>\n",
       "      <th>88</th>\n",
       "      <td>3144.059733</td>\n",
       "      <td>15534.360131</td>\n",
       "    </tr>\n",
       "    <tr>\n",
       "      <th>89</th>\n",
       "      <td>2798.144778</td>\n",
       "      <td>15.526779</td>\n",
       "    </tr>\n",
       "    <tr>\n",
       "      <th>90</th>\n",
       "      <td>2297.386745</td>\n",
       "      <td>15610.361082</td>\n",
       "    </tr>\n",
       "    <tr>\n",
       "      <th>91</th>\n",
       "      <td>2840.349278</td>\n",
       "      <td>15675.088888</td>\n",
       "    </tr>\n",
       "    <tr>\n",
       "      <th>92</th>\n",
       "      <td>3264.998153</td>\n",
       "      <td>15540.264039</td>\n",
       "    </tr>\n",
       "    <tr>\n",
       "      <th>93</th>\n",
       "      <td>3124.674528</td>\n",
       "      <td>15643.405043</td>\n",
       "    </tr>\n",
       "    <tr>\n",
       "      <th>94</th>\n",
       "      <td>3237.458126</td>\n",
       "      <td>15543.184320</td>\n",
       "    </tr>\n",
       "    <tr>\n",
       "      <th>95</th>\n",
       "      <td>3521.206352</td>\n",
       "      <td>15600.737631</td>\n",
       "    </tr>\n",
       "    <tr>\n",
       "      <th>96</th>\n",
       "      <td>2721.634127</td>\n",
       "      <td>15592.825824</td>\n",
       "    </tr>\n",
       "    <tr>\n",
       "      <th>97</th>\n",
       "      <td>2828.519442</td>\n",
       "      <td>15677.638399</td>\n",
       "    </tr>\n",
       "    <tr>\n",
       "      <th>98</th>\n",
       "      <td>2612.529574</td>\n",
       "      <td>15614.988841</td>\n",
       "    </tr>\n",
       "    <tr>\n",
       "      <th>99</th>\n",
       "      <td>2712.769604</td>\n",
       "      <td>15572.167414</td>\n",
       "    </tr>\n",
       "  </tbody>\n",
       "</table>\n",
       "<p>100 rows × 2 columns</p>\n",
       "</div>"
      ],
      "text/plain": [
       "              a             b\n",
       "0   4332.695685     15.636195\n",
       "1   3940.277193  15553.295188\n",
       "2   4286.436549  15700.776012\n",
       "3   2741.675108  15694.140139\n",
       "4   3660.539747  15664.030977\n",
       "5   3844.688399  15684.346671\n",
       "6   2591.855198  15572.947807\n",
       "7   3849.730401  15714.184163\n",
       "8   2735.959370  15554.189319\n",
       "9   3301.865017  15557.579189\n",
       "10  2766.276298  15675.897109\n",
       "11  2679.787229  15550.351614\n",
       "12  4144.025059  15666.569608\n",
       "13  4505.693013  15704.076214\n",
       "14  4049.900252  15689.005630\n",
       "15  4247.753621  15620.527394\n",
       "16  4550.480444  15642.527032\n",
       "17  4261.970816  15641.180751\n",
       "18  3230.975883     15.528402\n",
       "19  3442.078396  15644.799184\n",
       "20  3779.501969  15585.364751\n",
       "21  2362.689525  15561.777288\n",
       "22  2767.822928  15539.629634\n",
       "23  3051.889259  15557.203077\n",
       "24  2588.125165     15.685803\n",
       "25  3112.719353  15537.486321\n",
       "26  2244.971378  15643.845643\n",
       "27  4054.676557  15625.368598\n",
       "28  3521.779319  15541.309221\n",
       "29  3602.322099  15588.890665\n",
       "..          ...           ...\n",
       "70  2420.238465  15568.154762\n",
       "71  2834.937367  15689.524206\n",
       "72  3870.955613  15542.013075\n",
       "73  2122.649219  15641.770850\n",
       "74  2764.509442  15598.105223\n",
       "75  4294.101031  15705.852972\n",
       "76  2609.586831  15674.493541\n",
       "77  2452.832994  15538.614759\n",
       "78  2246.374917  15588.354995\n",
       "79  2497.402326  15621.511382\n",
       "80  2770.105034  15543.906299\n",
       "81  3286.508696  15552.007378\n",
       "82  3940.458121  15698.542299\n",
       "83  2154.572182  15577.602249\n",
       "84  3750.180376  15540.418085\n",
       "85  3535.902796  15654.531239\n",
       "86  4200.440788  15541.007707\n",
       "87  2212.029260  15541.443090\n",
       "88  3144.059733  15534.360131\n",
       "89  2798.144778     15.526779\n",
       "90  2297.386745  15610.361082\n",
       "91  2840.349278  15675.088888\n",
       "92  3264.998153  15540.264039\n",
       "93  3124.674528  15643.405043\n",
       "94  3237.458126  15543.184320\n",
       "95  3521.206352  15600.737631\n",
       "96  2721.634127  15592.825824\n",
       "97  2828.519442  15677.638399\n",
       "98  2612.529574  15614.988841\n",
       "99  2712.769604  15572.167414\n",
       "\n",
       "[100 rows x 2 columns]"
      ]
     },
     "execution_count": 8,
     "metadata": {},
     "output_type": "execute_result"
    }
   ],
   "source": [
    "samples.head(100)"
   ]
  },
  {
   "cell_type": "code",
   "execution_count": 13,
   "metadata": {},
   "outputs": [],
   "source": [
    "export_csv = samples.to_csv (r'/home/matias-desktop/Escritorio/export_dataframe.csv', index = None, header=True) #Don't forget to add '.csv' at the end of the path"
   ]
  },
  {
   "cell_type": "code",
   "execution_count": null,
   "metadata": {},
   "outputs": [],
   "source": []
  }
 ],
 "metadata": {
  "kernelspec": {
   "display_name": "Python 3",
   "language": "python",
   "name": "python3"
  },
  "language_info": {
   "codemirror_mode": {
    "name": "ipython",
    "version": 3
   },
   "file_extension": ".py",
   "mimetype": "text/x-python",
   "name": "python",
   "nbconvert_exporter": "python",
   "pygments_lexer": "ipython3",
   "version": "3.7.3"
  }
 },
 "nbformat": 4,
 "nbformat_minor": 2
}
